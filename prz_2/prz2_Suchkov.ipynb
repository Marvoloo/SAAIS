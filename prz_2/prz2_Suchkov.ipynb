{
  "cells": [
    {
      "cell_type": "markdown",
      "id": "3f565809-86d7-4db8-b06e-cef64636f922",
      "metadata": {
        "id": "3f565809-86d7-4db8-b06e-cef64636f922"
      },
      "source": [
        "# Выполнение практической работы № 2. (Сучков В.В. ББМО-01-22)\n",
        "## Реализация Adversarial (DeepFool, FGSM) атаки на модели машинного обучения (Lenet, FC)"
      ]
    },
    {
      "cell_type": "code",
      "source": [
        "from google.colab import drive\n",
        "drive.mount('/content/drive')"
      ],
      "metadata": {
        "colab": {
          "base_uri": "https://localhost:8080/"
        },
        "id": "XtgP5oaIwCua",
        "outputId": "d708e529-9cc6-4ab7-fef8-c66c6d5f6048"
      },
      "id": "XtgP5oaIwCua",
      "execution_count": 1,
      "outputs": [
        {
          "output_type": "stream",
          "name": "stdout",
          "text": [
            "Mounted at /content/drive\n"
          ]
        }
      ]
    },
    {
      "cell_type": "markdown",
      "source": [
        "### Подготовка репозитория для среды выполнения Colab\n",
        "\n",
        "**Adversarial атака — алгоритм действий, целью которого является получение вектора, подающегося на вход алгоритму, на котором алгоритм выдает некорректный выход.**\n",
        "\n",
        "**Целью такой атаки является подбор такого вектора шума, при наложении которого будут оказываться минимальные изменения по отношению к исходному вектору, но результат определения класса будет не верным**\n",
        "\n",
        "**В отличие от FGSM DeepFool старается минимизировать шум, при этом сделать так, чтобы классификация была ошибочной.**"
      ],
      "metadata": {
        "id": "DzO6_bPHF46P"
      },
      "id": "DzO6_bPHF46P"
    },
    {
      "cell_type": "code",
      "source": [
        "# Загрузим репозиторий в среду выполнения\n",
        "!cp -r /content/drive/MyDrive/Учеба/Семестр\\ №\\ 3/Анализ\\ защищенности\\ систем\\ искусственного\\ интеллекта/prz_2/* /content/\n",
        "# Удалим лишние файлы\n",
        "!rm  *.ipynb"
      ],
      "metadata": {
        "colab": {
          "base_uri": "https://localhost:8080/"
        },
        "id": "AsMTXsOccpA0",
        "outputId": "1079af75-8762-492a-9657-76a007ae9bdc"
      },
      "id": "AsMTXsOccpA0",
      "execution_count": null,
      "outputs": [
        {
          "output_type": "stream",
          "name": "stdout",
          "text": [
            "Cloning into 'EEL6812_DeepFool_Project'...\n",
            "remote: Enumerating objects: 96, done.\u001b[K\n",
            "remote: Counting objects: 100% (3/3), done.\u001b[K\n",
            "remote: Compressing objects: 100% (2/2), done.\u001b[K\n",
            "remote: Total 96 (delta 2), reused 1 (delta 1), pack-reused 93\u001b[K\n",
            "Receiving objects: 100% (96/96), 33.99 MiB | 18.07 MiB/s, done.\n",
            "Resolving deltas: 100% (27/27), done.\n"
          ]
        }
      ]
    },
    {
      "cell_type": "markdown",
      "id": "b5289829-d8ee-4cd3-bb12-384c5b3d6b20",
      "metadata": {
        "id": "b5289829-d8ee-4cd3-bb12-384c5b3d6b20"
      },
      "source": [
        "# Ход работы\n",
        "### Импортируем библиотеки\n"
      ]
    },
    {
      "cell_type": "code",
      "execution_count": null,
      "id": "f60033f6-7f0d-4160-9ccc-88a2e2f60111",
      "metadata": {
        "id": "f60033f6-7f0d-4160-9ccc-88a2e2f60111"
      },
      "outputs": [],
      "source": [
        "import numpy as np\n",
        "import os, torch\n",
        "from torch.utils.data import DataLoader, random_split\n",
        "from torchvision import datasets\n",
        "from torchvision.transforms import transforms\n",
        "from models.project_models import FC_500_150, LeNet_CIFAR, LeNet_MNIST, Net\n",
        "from utils.project_utils import get_clip_bounds, model_train, model_eval, evaluate_attack"
      ]
    },
    {
      "cell_type": "markdown",
      "id": "775e3453-e420-4951-b7ef-54a9f704779e",
      "metadata": {
        "id": "775e3453-e420-4951-b7ef-54a9f704779e"
      },
      "source": [
        "### Устанавливаем rand_seed и выбираем устройство выполнения\n"
      ]
    },
    {
      "cell_type": "code",
      "execution_count": null,
      "id": "d7e16653-5b76-42b7-a0fc-3ffc63dbb851",
      "metadata": {
        "id": "d7e16653-5b76-42b7-a0fc-3ffc63dbb851"
      },
      "outputs": [],
      "source": [
        "# Устанавливаем случайное число\n",
        "rand_seed = 18\n",
        "np.random.seed(rand_seed)\n",
        "torch.manual_seed(rand_seed)\n",
        "\n",
        "use_cuda = torch.cuda.is_available()\n",
        "device = torch.device('cuda' if use_cuda else 'cpu')"
      ]
    },
    {
      "cell_type": "markdown",
      "id": "cf39ea10-756d-4d6b-aec4-12de76c8f453",
      "metadata": {
        "id": "cf39ea10-756d-4d6b-aec4-12de76c8f453"
      },
      "source": [
        "### Загружаем датасет MNIST и предобрабатываем его\n"
      ]
    },
    {
      "cell_type": "code",
      "execution_count": null,
      "id": "a5a134c0-e712-40bb-a2e0-128a57724414",
      "metadata": {
        "colab": {
          "base_uri": "https://localhost:8080/"
        },
        "id": "a5a134c0-e712-40bb-a2e0-128a57724414",
        "outputId": "eda8cde9-6934-4f99-ad65-5cea8cfe179e"
      },
      "outputs": [
        {
          "output_type": "stream",
          "name": "stdout",
          "text": [
            "Downloading http://yann.lecun.com/exdb/mnist/train-images-idx3-ubyte.gz\n",
            "Downloading http://yann.lecun.com/exdb/mnist/train-images-idx3-ubyte.gz to datasets/mnist/MNIST/raw/train-images-idx3-ubyte.gz\n"
          ]
        },
        {
          "output_type": "stream",
          "name": "stderr",
          "text": [
            "100%|██████████| 9912422/9912422 [00:00<00:00, 29846981.64it/s]\n"
          ]
        },
        {
          "output_type": "stream",
          "name": "stdout",
          "text": [
            "Extracting datasets/mnist/MNIST/raw/train-images-idx3-ubyte.gz to datasets/mnist/MNIST/raw\n",
            "\n",
            "Downloading http://yann.lecun.com/exdb/mnist/train-labels-idx1-ubyte.gz\n",
            "Downloading http://yann.lecun.com/exdb/mnist/train-labels-idx1-ubyte.gz to datasets/mnist/MNIST/raw/train-labels-idx1-ubyte.gz\n"
          ]
        },
        {
          "output_type": "stream",
          "name": "stderr",
          "text": [
            "100%|██████████| 28881/28881 [00:00<00:00, 26985006.42it/s]\n"
          ]
        },
        {
          "output_type": "stream",
          "name": "stdout",
          "text": [
            "Extracting datasets/mnist/MNIST/raw/train-labels-idx1-ubyte.gz to datasets/mnist/MNIST/raw\n",
            "\n",
            "Downloading http://yann.lecun.com/exdb/mnist/t10k-images-idx3-ubyte.gz\n",
            "Downloading http://yann.lecun.com/exdb/mnist/t10k-images-idx3-ubyte.gz to datasets/mnist/MNIST/raw/t10k-images-idx3-ubyte.gz\n"
          ]
        },
        {
          "output_type": "stream",
          "name": "stderr",
          "text": [
            "100%|██████████| 1648877/1648877 [00:00<00:00, 27945479.58it/s]\n"
          ]
        },
        {
          "output_type": "stream",
          "name": "stdout",
          "text": [
            "Extracting datasets/mnist/MNIST/raw/t10k-images-idx3-ubyte.gz to datasets/mnist/MNIST/raw\n",
            "\n",
            "Downloading http://yann.lecun.com/exdb/mnist/t10k-labels-idx1-ubyte.gz\n",
            "Downloading http://yann.lecun.com/exdb/mnist/t10k-labels-idx1-ubyte.gz to datasets/mnist/MNIST/raw/t10k-labels-idx1-ubyte.gz\n"
          ]
        },
        {
          "output_type": "stream",
          "name": "stderr",
          "text": [
            "100%|██████████| 4542/4542 [00:00<00:00, 20137979.67it/s]\n"
          ]
        },
        {
          "output_type": "stream",
          "name": "stdout",
          "text": [
            "Extracting datasets/mnist/MNIST/raw/t10k-labels-idx1-ubyte.gz to datasets/mnist/MNIST/raw\n",
            "\n"
          ]
        }
      ],
      "source": [
        "# Загружаем датасет MNIST\n",
        "mnist_mean = 0.5\n",
        "mnist_std = 0.5\n",
        "mnist_dim = 28\n",
        "\n",
        "mnist_min, mnist_max = get_clip_bounds(mnist_mean,\n",
        "                                       mnist_std,\n",
        "                                       mnist_dim)\n",
        "mnist_min = mnist_min.to(device)\n",
        "mnist_max = mnist_max.to(device)\n",
        "\n",
        "mnist_tf = transforms.Compose([\n",
        "    transforms.ToTensor(),\n",
        "    transforms.Normalize(\n",
        "        mean=mnist_mean,\n",
        "        std=mnist_std)])\n",
        "\n",
        "mnist_tf_train = transforms.Compose([\n",
        "    transforms.RandomHorizontalFlip(),\n",
        "    transforms.ToTensor(),\n",
        "    transforms.Normalize(\n",
        "        mean=mnist_mean,\n",
        "        std=mnist_std)])\n",
        "\n",
        "mnist_tf_inv = transforms.Compose([\n",
        "    transforms.Normalize(\n",
        "        mean=0.0,\n",
        "        std=np.divide(1.0, mnist_std)),\n",
        "    transforms.Normalize(\n",
        "        mean=np.multiply(-1.0, mnist_std),\n",
        "        std=1.0)])\n",
        "\n",
        "mnist_temp = datasets.MNIST(root='datasets/mnist', train=True,\n",
        "                            download=True, transform=mnist_tf_train)\n",
        "mnist_train, mnist_val = random_split(mnist_temp, [50000, 10000])\n",
        "\n",
        "mnist_test = datasets.MNIST(root='datasets/mnist', train=False,\n",
        "                            download=True, transform=mnist_tf)"
      ]
    },
    {
      "cell_type": "markdown",
      "id": "969856a4-3b9c-4181-9dc9-4120b1c5cfe8",
      "metadata": {
        "id": "969856a4-3b9c-4181-9dc9-4120b1c5cfe8"
      },
      "source": [
        "### Загружаем датасет CIFAR-10 и предобрабатываем его\n"
      ]
    },
    {
      "cell_type": "code",
      "execution_count": null,
      "id": "1999b328-b434-40ec-8773-e7fc3bf76f57",
      "metadata": {
        "colab": {
          "base_uri": "https://localhost:8080/"
        },
        "id": "1999b328-b434-40ec-8773-e7fc3bf76f57",
        "outputId": "038ba78e-4d62-4a1a-a335-7fb746c96232"
      },
      "outputs": [
        {
          "output_type": "stream",
          "name": "stdout",
          "text": [
            "Downloading https://www.cs.toronto.edu/~kriz/cifar-10-python.tar.gz to datasets/cifar-10/cifar-10-python.tar.gz\n"
          ]
        },
        {
          "output_type": "stream",
          "name": "stderr",
          "text": [
            "100%|██████████| 170498071/170498071 [00:02<00:00, 62804720.85it/s]\n"
          ]
        },
        {
          "output_type": "stream",
          "name": "stdout",
          "text": [
            "Extracting datasets/cifar-10/cifar-10-python.tar.gz to datasets/cifar-10\n",
            "Files already downloaded and verified\n"
          ]
        }
      ],
      "source": [
        "# Загрузим датасет CIFAR-10\n",
        "cifar_mean = [0.491, 0.482, 0.447]\n",
        "cifar_std = [0.202, 0.199, 0.201]\n",
        "cifar_dim = 32\n",
        "\n",
        "cifar_min, cifar_max = get_clip_bounds(cifar_mean,\n",
        "                                       cifar_std,\n",
        "                                       cifar_dim)\n",
        "cifar_min = cifar_min.to(device)\n",
        "cifar_max = cifar_max.to(device)\n",
        "\n",
        "cifar_tf = transforms.Compose([\n",
        "    transforms.ToTensor(),\n",
        "    transforms.Normalize(\n",
        "        mean=cifar_mean,\n",
        "        std=cifar_std)])\n",
        "\n",
        "cifar_tf_train = transforms.Compose([\n",
        "    transforms.RandomCrop(\n",
        "        size=cifar_dim,\n",
        "        padding=4),\n",
        "    transforms.RandomHorizontalFlip(),\n",
        "    transforms.ToTensor(),\n",
        "    transforms.Normalize(\n",
        "        mean=cifar_mean,\n",
        "        std=cifar_std)])\n",
        "\n",
        "cifar_tf_inv = transforms.Compose([\n",
        "    transforms.Normalize(\n",
        "        mean=[0.0, 0.0, 0.0],\n",
        "        std=np.divide(1.0, cifar_std)),\n",
        "    transforms.Normalize(\n",
        "        mean=np.multiply(-1.0, cifar_mean),\n",
        "        std=[1.0, 1.0, 1.0])])\n",
        "\n",
        "cifar_temp = datasets.CIFAR10(root='datasets/cifar-10', train=True,\n",
        "                              download=True, transform=cifar_tf_train)\n",
        "cifar_train, cifar_val = random_split(cifar_temp, [40000, 10000])\n",
        "\n",
        "cifar_test = datasets.CIFAR10(root='datasets/cifar-10', train=False,\n",
        "                              download=True, transform=cifar_tf)\n",
        "cifar_classes = ['airplane', 'automobile', 'bird', 'cat', 'deer',\n",
        "                'dog', 'frog', 'horse', 'ship', 'truck']"
      ]
    },
    {
      "cell_type": "markdown",
      "source": [
        "### Настраиваем гиперпараметры"
      ],
      "metadata": {
        "id": "3ghUgVKrHGHi"
      },
      "id": "3ghUgVKrHGHi"
    },
    {
      "cell_type": "code",
      "execution_count": null,
      "id": "beda5a10-6157-4197-b349-b04cef1959be",
      "metadata": {
        "colab": {
          "base_uri": "https://localhost:8080/"
        },
        "id": "beda5a10-6157-4197-b349-b04cef1959be",
        "outputId": "006f47fb-d72b-4886-a4dd-9685d59e2310"
      },
      "outputs": [
        {
          "output_type": "stream",
          "name": "stderr",
          "text": [
            "/usr/local/lib/python3.10/dist-packages/torch/utils/data/dataloader.py:560: UserWarning: This DataLoader will create 4 worker processes in total. Our suggested max number of worker in current system is 2, which is smaller than what this DataLoader is going to create. Please be aware that excessive worker creation might get DataLoader running slow or even freeze, lower the worker number to avoid potential slowness/freeze if necessary.\n",
            "  warnings.warn(_create_warning_msg(\n"
          ]
        }
      ],
      "source": [
        "# Установимм размер разбивки на 64 батча\n",
        "batch_size = 64\n",
        "workers = 4\n",
        "\n",
        "mnist_loader_train = DataLoader(mnist_train, batch_size=batch_size,\n",
        "                                shuffle=True, num_workers=workers)\n",
        "mnist_loader_val = DataLoader(mnist_val, batch_size=batch_size,\n",
        "                              shuffle=False, num_workers=workers)\n",
        "mnist_loader_test = DataLoader(mnist_test, batch_size=batch_size,\n",
        "                               shuffle=False, num_workers=workers)\n",
        "\n",
        "cifar_loader_train = DataLoader(cifar_train, batch_size=batch_size,\n",
        "                                shuffle=True, num_workers=workers)\n",
        "cifar_loader_val = DataLoader(cifar_val, batch_size=batch_size,\n",
        "                              shuffle=False, num_workers=workers)\n",
        "cifar_loader_test = DataLoader(cifar_test, batch_size=batch_size,\n",
        "                               shuffle=False, num_workers=workers)"
      ]
    },
    {
      "cell_type": "code",
      "source": [
        "# Устанавливаем параметры для обучения\n",
        "train_model = True\n",
        "\n",
        "epochs = 50\n",
        "epochs_nin = 100\n",
        "\n",
        "lr = 0.004\n",
        "lr_nin = 0.01\n",
        "lr_scale = 0.5\n",
        "\n",
        "momentum = 0.9\n",
        "\n",
        "print_step = 5\n",
        "\n",
        "deep_batch_size = 10\n",
        "deep_num_classes = 10\n",
        "deep_overshoot = 0.02\n",
        "deep_max_iters = 50\n",
        "\n",
        "deep_args = [deep_batch_size, deep_num_classes,\n",
        "             deep_overshoot, deep_max_iters]\n",
        "\n",
        "if not os.path.isdir('weights/deepfool'):\n",
        "    os.makedirs('weights/deepfool', exist_ok=True)\n",
        "\n",
        "if not os.path.isdir('weights/fgsm'):\n",
        "    os.makedirs('weights/fgsm', exist_ok=True)"
      ],
      "metadata": {
        "id": "KIDpGGKyq0-g"
      },
      "id": "KIDpGGKyq0-g",
      "execution_count": null,
      "outputs": []
    },
    {
      "cell_type": "markdown",
      "source": [
        "## Реализация атак\n",
        "### Реализация атаки FGSM на модель Lenet и датасет MNIST при помощи функций EEL6812\n"
      ],
      "metadata": {
        "id": "u8l-CxjJHK6m"
      },
      "id": "u8l-CxjJHK6m"
    },
    {
      "cell_type": "code",
      "source": [
        "fgsm_eps = 0.5\n",
        "model = LeNet_MNIST().to(device)\n",
        "model.load_state_dict(torch.load('weights/clean/mnist_lenet.pth'))\n",
        "\n",
        "if train_model:\n",
        "    opt = torch.optim.SGD(model.parameters(),\n",
        "                          lr=lr * lr_scale,\n",
        "                          momentum=momentum)\n",
        "    _, _, _, _, = model_train(device, model, opt, epochs,\n",
        "                              mnist_loader_train, mnist_loader_val,\n",
        "                              print_step, mnist_min, mnist_max,\n",
        "                              fgsm_eps, is_fgsm=True)\n",
        "    torch.save(model.state_dict(), 'weights/fgsm/mnist_lenet.pth')\n",
        "\n",
        "model.load_state_dict(torch.load('weights/fgsm/mnist_lenet.pth'))\n",
        "_, _ = model_eval(device, model, mnist_loader_test,\n",
        "    mnist_min, mnist_max, fgsm_eps, is_fgsm=True)\n",
        "_, _ = model_eval(device, model, mnist_loader_test)\n",
        "\n",
        "if device.type == 'cuda':\n",
        "    torch.cuda.empty_cache()"
      ],
      "metadata": {
        "colab": {
          "base_uri": "https://localhost:8080/"
        },
        "id": "Ob3NsrzOwlbW",
        "outputId": "f08281cb-d75d-4e01-fa3f-96f6ead10731"
      },
      "id": "Ob3NsrzOwlbW",
      "execution_count": null,
      "outputs": [
        {
          "output_type": "stream",
          "name": "stderr",
          "text": [
            "/usr/local/lib/python3.10/dist-packages/torch/utils/data/dataloader.py:560: UserWarning: This DataLoader will create 4 worker processes in total. Our suggested max number of worker in current system is 2, which is smaller than what this DataLoader is going to create. Please be aware that excessive worker creation might get DataLoader running slow or even freeze, lower the worker number to avoid potential slowness/freeze if necessary.\n",
            "  warnings.warn(_create_warning_msg(\n"
          ]
        },
        {
          "output_type": "stream",
          "name": "stdout",
          "text": [
            "Epoch [1]\n",
            "    Train Acc : 0.4597,  Train Loss : 1.5236\n",
            "      Val Acc : 0.5082,    Val Loss : 1.3089\n",
            "Epoch [5]\n",
            "    Train Acc : 0.7321,  Train Loss : 0.7488\n",
            "      Val Acc : 0.7398,    Val Loss : 0.7164\n",
            "Epoch [10]\n",
            "    Train Acc : 0.8570,  Train Loss : 0.4157\n",
            "      Val Acc : 0.8677,    Val Loss : 0.3872\n",
            "Epoch [15]\n",
            "    Train Acc : 0.8948,  Train Loss : 0.3107\n",
            "      Val Acc : 0.8992,    Val Loss : 0.3004\n",
            "Epoch [20]\n",
            "    Train Acc : 0.9101,  Train Loss : 0.2613\n",
            "      Val Acc : 0.9089,    Val Loss : 0.2805\n",
            "Epoch [25]\n",
            "    Train Acc : 0.9165,  Train Loss : 0.2430\n",
            "      Val Acc : 0.9107,    Val Loss : 0.2619\n",
            "Epoch [30]\n",
            "    Train Acc : 0.9293,  Train Loss : 0.2101\n",
            "      Val Acc : 0.9134,    Val Loss : 0.2682\n",
            "Epoch [35]\n",
            "    Train Acc : 0.9343,  Train Loss : 0.1933\n",
            "      Val Acc : 0.9626,    Val Loss : 0.1079\n",
            "Epoch [40]\n",
            "    Train Acc : 0.9312,  Train Loss : 0.2023\n",
            "      Val Acc : 0.9240,    Val Loss : 0.2291\n",
            "Epoch [45]\n",
            "    Train Acc : 0.9443,  Train Loss : 0.1629\n",
            "      Val Acc : 0.9342,    Val Loss : 0.1932\n",
            "Epoch [50]\n",
            "    Train Acc : 0.9477,  Train Loss : 0.1542\n",
            "      Val Acc : 0.9399,    Val Loss : 0.1820\n",
            "Evaluation (FGSM Images)\n",
            "     Test Acc : 0.9383,   Test Loss : 0.1847\n",
            "Evaluation (Clean Images)\n",
            "     Test Acc : 0.9813,   Test Loss : 0.0521\n"
          ]
        }
      ]
    },
    {
      "cell_type": "markdown",
      "source": [
        "**Функция потерь при атаке на модель Lenet увеличилась, и точность снизилась на 5%**\n",
        "## Реализация атаки FGSM на модель FC и датасет MNIST при помощи функций EEL6812\n"
      ],
      "metadata": {
        "id": "-Tv4iPdpHUt-"
      },
      "id": "-Tv4iPdpHUt-"
    },
    {
      "cell_type": "code",
      "source": [
        "fgsm_eps = 0.2\n",
        "model = FC_500_150().to(device)\n",
        "model.load_state_dict(torch.load('weights/clean/mnist_fc.pth'))\n",
        "\n",
        "if train_model:\n",
        "    opt = torch.optim.SGD(model.parameters(),\n",
        "                          lr=lr * lr_scale,\n",
        "                          momentum=momentum)\n",
        "    _, _, _, _, = model_train(device, model, opt, epochs,\n",
        "                              mnist_loader_train, mnist_loader_val,\n",
        "                              print_step, mnist_min, mnist_max,\n",
        "                              fgsm_eps, is_fgsm=True)\n",
        "    torch.save(model.state_dict(), 'weights/fgsm/mnist_fc.pth')\n",
        "\n",
        "model.load_state_dict(torch.load('weights/fgsm/mnist_fc.pth'))\n",
        "_, _ = model_eval(device, model, mnist_loader_test,\n",
        "    mnist_min, mnist_max, fgsm_eps, is_fgsm=True)\n",
        "_, _ = model_eval(device, model, mnist_loader_test)\n",
        "\n",
        "if device.type == 'cuda':\n",
        "    torch.cuda.empty_cache()"
      ],
      "metadata": {
        "colab": {
          "base_uri": "https://localhost:8080/"
        },
        "id": "HzFAwUCm3Faz",
        "outputId": "9d132831-c21a-4042-f8c4-117fb47d1aee"
      },
      "id": "HzFAwUCm3Faz",
      "execution_count": null,
      "outputs": [
        {
          "output_type": "stream",
          "name": "stdout",
          "text": [
            "Epoch [1]\n",
            "    Train Acc : 0.5811,  Train Loss : 1.2243\n",
            "      Val Acc : 0.6651,    Val Loss : 0.9472\n",
            "Epoch [5]\n",
            "    Train Acc : 0.7521,  Train Loss : 0.7041\n",
            "      Val Acc : 0.7602,    Val Loss : 0.6845\n",
            "Epoch [10]\n",
            "    Train Acc : 0.7963,  Train Loss : 0.5866\n",
            "      Val Acc : 0.7981,    Val Loss : 0.5899\n",
            "Epoch [15]\n",
            "    Train Acc : 0.8206,  Train Loss : 0.5214\n",
            "      Val Acc : 0.8240,    Val Loss : 0.5371\n",
            "Epoch [20]\n",
            "    Train Acc : 0.8357,  Train Loss : 0.4780\n",
            "      Val Acc : 0.8363,    Val Loss : 0.4940\n",
            "Epoch [25]\n",
            "    Train Acc : 0.8495,  Train Loss : 0.4428\n",
            "      Val Acc : 0.8459,    Val Loss : 0.4688\n",
            "Epoch [30]\n",
            "    Train Acc : 0.8585,  Train Loss : 0.4137\n",
            "      Val Acc : 0.8503,    Val Loss : 0.4563\n",
            "Epoch [35]\n",
            "    Train Acc : 0.8648,  Train Loss : 0.3940\n",
            "      Val Acc : 0.8552,    Val Loss : 0.4402\n",
            "Epoch [40]\n",
            "    Train Acc : 0.8718,  Train Loss : 0.3750\n",
            "      Val Acc : 0.8605,    Val Loss : 0.4265\n",
            "Epoch [45]\n",
            "    Train Acc : 0.8792,  Train Loss : 0.3568\n",
            "      Val Acc : 0.8671,    Val Loss : 0.4053\n",
            "Epoch [50]\n",
            "    Train Acc : 0.8836,  Train Loss : 0.3410\n",
            "      Val Acc : 0.8686,    Val Loss : 0.4043\n",
            "Evaluation (FGSM Images)\n",
            "     Test Acc : 0.8673,   Test Loss : 0.3934\n",
            "Evaluation (Clean Images)\n",
            "     Test Acc : 0.9761,   Test Loss : 0.0760\n"
          ]
        }
      ]
    },
    {
      "cell_type": "markdown",
      "source": [
        "**Влияние FGSM на FC модель гораздо сильнее, точность уменьшилась на 11%**\n",
        "## Реализация атаки DeepFool на модель Lenet и датасет CIFAR-10 при помощи функций EEL6812 для этого из функции меняем значение is_fgsm на False"
      ],
      "metadata": {
        "id": "B39vGbWfHkMn"
      },
      "id": "B39vGbWfHkMn"
    },
    {
      "cell_type": "code",
      "source": [
        "# Влияние FGSM на FC модель гораздо сильнее, точность уменьшилась на 11%\n",
        "# Реализация атаки DeepFool на модель Lenet и датасет CIFAR-10 при помощи функций EEL6812 для этого из функции меняем значение is_fgsm на False\n",
        "model = LeNet_CIFAR().to(device)\n",
        "model.load_state_dict(torch.load('weights/clean/cifar_lenet.pth'))\n",
        "\n",
        "if train_model:\n",
        "    opt = torch.optim.SGD(model.parameters(),\n",
        "                          lr=lr * lr_scale,\n",
        "                          momentum=momentum)\n",
        "    _, _, _, _, = model_train(device, model, opt, 5,\n",
        "                              cifar_loader_train, cifar_loader_val,\n",
        "                              1, cifar_min, cifar_max,\n",
        "                              deep_args, is_fgsm=False)\n",
        "    torch.save(model.state_dict(), 'weights/deepfool/cifar_lenet.pth')\n",
        "\n",
        "model.load_state_dict(torch.load('weights/deepfool/cifar_lenet.pth'))\n",
        "_, _ = model_eval(device, model, cifar_loader_test,\n",
        "    cifar_min, cifar_max, deep_args, is_fgsm=False)\n",
        "_, _ = model_eval(device, model, cifar_loader_test)\n",
        "\n",
        "if device.type == 'cuda':\n",
        "    torch.cuda.empty_cache()"
      ],
      "metadata": {
        "colab": {
          "base_uri": "https://localhost:8080/"
        },
        "id": "nTSClHZC_Kow",
        "outputId": "97541d0c-cc78-41d5-cf6b-e0a8e66b9986"
      },
      "id": "nTSClHZC_Kow",
      "execution_count": null,
      "outputs": [
        {
          "output_type": "stream",
          "name": "stdout",
          "text": [
            "Epoch [1]\n",
            "    Train Acc : 0.1658,  Train Loss : 1.1754\n",
            "      Val Acc : 0.1631,    Val Loss : 1.2258\n",
            "Epoch [2]\n",
            "    Train Acc : 0.1721,  Train Loss : 1.2243\n",
            "      Val Acc : 0.1756,    Val Loss : 1.2913\n",
            "Epoch [3]\n",
            "    Train Acc : 0.1731,  Train Loss : 1.2354\n",
            "      Val Acc : 0.1687,    Val Loss : 1.2278\n",
            "Epoch [4]\n",
            "    Train Acc : 0.1738,  Train Loss : 1.2271\n",
            "      Val Acc : 0.1713,    Val Loss : 1.2328\n",
            "Epoch [5]\n",
            "    Train Acc : 0.1712,  Train Loss : 1.2290\n",
            "      Val Acc : 0.1684,    Val Loss : 1.2457\n",
            "Evaluation (DeepFool Images)\n",
            "     Test Acc : 0.1718,   Test Loss : 1.2422\n",
            "Evaluation (Clean Images)\n",
            "     Test Acc : 0.6599,   Test Loss : 1.2451\n"
          ]
        }
      ]
    },
    {
      "cell_type": "markdown",
      "source": [
        "**Время выполнения атаки сильно больше чем при атаке FGSM.**\n",
        "\n",
        "**Однако результативность DeepFool в разы выше, точность от атаки снизилась в 3 раза, при этом функция потерь примерно равна**\n",
        "\n",
        "*Это объяняется тем, что модель старается подобрать минимальный шум, который при этом будем искажать оперделяемый класс*\n",
        "### Проверка атаки на Lenet при помощи evaluate_attack"
      ],
      "metadata": {
        "id": "esOWURAkHyfe"
      },
      "id": "esOWURAkHyfe"
    },
    {
      "cell_type": "code",
      "source": [
        "fgsm_eps = 0.5\n",
        "model = LeNet_MNIST().to(device)\n",
        "model.load_state_dict(torch.load('weights/clean/mnist_lenet.pth', map_location=torch.device('cpu')))\n",
        "evaluate_attack('mnist_lenet_fgsm.csv', 'results', device, model, mnist_loader_test, mnist_min, mnist_max,\n",
        "fgsm_eps, is_fgsm=True)\n",
        "print('')\n",
        "evaluate_attack('mnist_lenet_deepfool.csv', 'results', device, model,\n",
        "mnist_loader_test, mnist_min, mnist_max, deep_args, is_fgsm=False)\n",
        "if device.type == 'cuda': torch.cuda.empty_cache()"
      ],
      "metadata": {
        "colab": {
          "base_uri": "https://localhost:8080/"
        },
        "id": "iDmCySOB95lv",
        "outputId": "11b16dbb-abc1-4b29-f40c-95136efa7646"
      },
      "id": "iDmCySOB95lv",
      "execution_count": null,
      "outputs": [
        {
          "output_type": "stream",
          "name": "stdout",
          "text": [
            "FGSM Test Error : 87.89%\n",
            "FGSM Robustness : 4.58e-01\n",
            "FGSM Time (All Images) : 0.29 s\n",
            "FGSM Time (Per Image) : 28.86 us\n",
            "\n",
            "DeepFool Test Error : 98.74%\n",
            "DeepFool Robustness : 9.64e-02\n",
            "DeepFool Time (All Images) : 193.32 s\n",
            "DeepFool Time (Per Image) : 19.33 ms\n"
          ]
        }
      ]
    },
    {
      "cell_type": "markdown",
      "source": [
        "### Проверка атаки на FC при помощи evaluate_attack"
      ],
      "metadata": {
        "id": "huMJdmALIxPO"
      },
      "id": "huMJdmALIxPO"
    },
    {
      "cell_type": "code",
      "source": [
        "fgsm_eps = 0.2\n",
        "model = FC_500_150().to(device)\n",
        "model.load_state_dict(torch.load('weights/clean/mnist_fc.pth', map_location=torch.device('cpu')))\n",
        "evaluate_attack('mnist_fc_fgsm.csv', 'results', device, model, mnist_loader_test, mnist_min, mnist_max,\n",
        "fgsm_eps, is_fgsm=True)\n",
        "print('')\n",
        "evaluate_attack('mnist_fc_deepfool.csv', 'results', device, model,\n",
        "mnist_loader_test, mnist_min, mnist_max, deep_args, is_fgsm=False)\n",
        "if device.type == 'cuda': torch.cuda.empty_cache()"
      ],
      "metadata": {
        "colab": {
          "base_uri": "https://localhost:8080/"
        },
        "id": "JWgpUdKi-Z0z",
        "outputId": "b1e0565a-f919-4ee3-889b-0058a620e25d"
      },
      "id": "JWgpUdKi-Z0z",
      "execution_count": null,
      "outputs": [
        {
          "output_type": "stream",
          "name": "stdout",
          "text": [
            "FGSM Test Error : 87.08%\n",
            "FGSM Robustness : 1.56e-01\n",
            "FGSM Time (All Images) : 0.15 s\n",
            "FGSM Time (Per Image) : 14.99 us\n",
            "\n",
            "DeepFool Test Error : 97.92%\n",
            "DeepFool Robustness : 6.78e-02\n",
            "DeepFool Time (All Images) : 141.81 s\n",
            "DeepFool Time (Per Image) : 14.18 ms\n"
          ]
        }
      ]
    },
    {
      "cell_type": "markdown",
      "source": [
        "**Исходя из результатов проверки атаки, можно сказать следующие:**\n",
        "* 1 - Ошибка вносимая методом Deepfool - выше, чем FGSM\n",
        "* 2 - Время, которое при этом затрачивается на одну картинку у метода DeepFool гораздо выше, т.к. данный метод доводит дисперсию шума до минимума\n",
        "* 3 - Мера отвечающая за интенсивность шума (дисперсию шума) у метода DeepFool сильно ниже, что значит, что шум менее заметен, чем при FGSM"
      ],
      "metadata": {
        "id": "KmgKzuzSI8nf"
      },
      "id": "KmgKzuzSI8nf"
    }
  ],
  "metadata": {
    "kernelspec": {
      "display_name": "Python 3",
      "name": "python3"
    },
    "language_info": {
      "codemirror_mode": {
        "name": "ipython",
        "version": 3
      },
      "file_extension": ".py",
      "mimetype": "text/x-python",
      "name": "python",
      "nbconvert_exporter": "python",
      "pygments_lexer": "ipython3",
      "version": "3.7.11"
    },
    "colab": {
      "provenance": [],
      "gpuType": "T4"
    },
    "accelerator": "GPU"
  },
  "nbformat": 4,
  "nbformat_minor": 5
}