{
 "cells": [
  {
   "cell_type": "code",
   "execution_count": 10,
   "id": "274ff35d",
   "metadata": {},
   "outputs": [
    {
     "name": "stdout",
     "output_type": "stream",
     "text": [
      "Collecting adversarial-robustness-toolbox\n",
      "  Downloading adversarial_robustness_toolbox-1.16.0-py3-none-any.whl (1.6 MB)\n",
      "     ---------------------------------------- 1.6/1.6 MB 457.8 kB/s eta 0:00:00\n",
      "Requirement already satisfied: tqdm in c:\\users\\rusuc\\anaconda3\\lib\\site-packages (from adversarial-robustness-toolbox) (4.64.1)\n",
      "Collecting scikit-learn<1.2.0,>=0.22.2\n",
      "  Downloading scikit_learn-1.1.3-cp310-cp310-win_amd64.whl (7.5 MB)\n",
      "     ---------------------------------------- 7.5/7.5 MB 458.5 kB/s eta 0:00:00\n",
      "Requirement already satisfied: six in c:\\users\\rusuc\\anaconda3\\lib\\site-packages (from adversarial-robustness-toolbox) (1.16.0)\n",
      "Requirement already satisfied: scipy>=1.4.1 in c:\\users\\rusuc\\anaconda3\\lib\\site-packages (from adversarial-robustness-toolbox) (1.10.0)\n",
      "Requirement already satisfied: numpy>=1.18.0 in c:\\users\\rusuc\\anaconda3\\lib\\site-packages (from adversarial-robustness-toolbox) (1.23.5)\n",
      "Requirement already satisfied: setuptools in c:\\users\\rusuc\\anaconda3\\lib\\site-packages (from adversarial-robustness-toolbox) (65.6.3)\n",
      "Requirement already satisfied: joblib>=1.0.0 in c:\\users\\rusuc\\anaconda3\\lib\\site-packages (from scikit-learn<1.2.0,>=0.22.2->adversarial-robustness-toolbox) (1.1.1)\n",
      "Requirement already satisfied: threadpoolctl>=2.0.0 in c:\\users\\rusuc\\anaconda3\\lib\\site-packages (from scikit-learn<1.2.0,>=0.22.2->adversarial-robustness-toolbox) (2.2.0)\n",
      "Requirement already satisfied: colorama in c:\\users\\rusuc\\anaconda3\\lib\\site-packages (from tqdm->adversarial-robustness-toolbox) (0.4.6)\n",
      "Installing collected packages: scikit-learn, adversarial-robustness-toolbox\n",
      "  Attempting uninstall: scikit-learn\n",
      "    Found existing installation: scikit-learn 1.2.1\n",
      "    Uninstalling scikit-learn-1.2.1:\n",
      "      Successfully uninstalled scikit-learn-1.2.1\n",
      "Successfully installed adversarial-robustness-toolbox-1.16.0 scikit-learn-1.1.3\n"
     ]
    }
   ],
   "source": [
    "!pip install adversarial-robustness-toolbox"
   ]
  },
  {
   "cell_type": "code",
   "execution_count": 11,
   "id": "000367eb",
   "metadata": {},
   "outputs": [],
   "source": [
    "# Выполняем импорт необходимых библиотек: \n",
    "import numpy as np\n",
    "import tensorflow as tf\n",
    "from art.attacks.poisoning.backdoor_attack_dgm.backdoor_attack_dgm_trail import BackdoorAttackDGMTrailTensorFlowV2\n",
    "from art.estimators.gan.tensorflow import TensorFlowV2GAN\n",
    "from art.estimators.generation.tensorflow import TensorFlowV2Generator\n",
    "from art.estimators.classification.tensorflow import TensorFlowV2Classifier\n",
    "np.random.seed(100)\n",
    "tf.random.set_seed(100)"
   ]
  },
  {
   "cell_type": "code",
   "execution_count": 12,
   "id": "bea341b5",
   "metadata": {},
   "outputs": [],
   "source": [
    "# Создаем класс для модели-генератора изображений состязательной сети\n",
    "def make_generator_model(capacity: int, z_dim: int) -> tf.keras.Sequential():\n",
    "    model = tf.keras.Sequential()\n",
    "    model.add(tf.keras.layers.Dense(capacity * 7 * 7 * 4, use_bias=False,\n",
    "    input_shape=(z_dim,)))\n",
    "    model.add(tf.keras.layers.BatchNormalization())\n",
    "    model.add(tf.keras.layers.LeakyReLU())\n",
    "    model.add(tf.keras.layers.Reshape((7, 7, capacity * 4)))\n",
    "    assert model.output_shape == (None, 7, 7, capacity * 4)\n",
    "    model.add(tf.keras.layers.Conv2DTranspose(capacity * 2, (5, 5),\n",
    "    strides=(1, 1), padding=\"same\", use_bias=False))\n",
    "    assert model.output_shape == (None, 7, 7, capacity * 2)\n",
    "    model.add(tf.keras.layers.BatchNormalization())\n",
    "    model.add(tf.keras.layers.LeakyReLU())\n",
    "    model.add(tf.keras.layers.Conv2DTranspose(capacity, (5, 5),\n",
    "    strides=(2, 2), padding=\"same\", use_bias=False))\n",
    "    assert model.output_shape == (None, 14, 14, capacity)\n",
    "    model.add(tf.keras.layers.BatchNormalization())\n",
    "    model.add(tf.keras.layers.LeakyReLU())\n",
    "    model.add(tf.keras.layers.Conv2DTranspose(1, (5, 5), strides=(2, 2),\n",
    "    padding=\"same\", use_bias=False))\n",
    "    model.add(tf.keras.layers.Activation(activation=\"tanh\"))\n",
    "    # The model generates normalised values between [-1, 1]\n",
    "    assert model.output_shape == (None, 28, 28, 1)\n",
    "    return model"
   ]
  },
  {
   "cell_type": "code",
   "execution_count": 13,
   "id": "84f5126a",
   "metadata": {},
   "outputs": [],
   "source": [
    "# Создаем класс для модели-дискриминатора изображений состязательной сети\n",
    "def make_discriminator_model(capacity: int) -> tf.keras.Sequential():\n",
    "    model = tf.keras.Sequential()\n",
    "    model.add(tf.keras.layers.Conv2D(capacity, (5, 5), strides=(2, 2),\n",
    "    padding=\"same\", input_shape=[28, 28, 1]))\n",
    "    model.add(tf.keras.layers.LeakyReLU())\n",
    "    model.add(tf.keras.layers.Dropout(0.3))\n",
    "    model.add(tf.keras.layers.Conv2D(capacity * 2, (5, 5), strides=(2, 2),\n",
    "    padding=\"same\"))\n",
    "    model.add(tf.keras.layers.LeakyReLU())\n",
    "    model.add(tf.keras.layers.Dropout(0.3))\n",
    "    model.add(tf.keras.layers.Flatten())\n",
    "    model.add(tf.keras.layers.Dense(1))\n",
    "    return model"
   ]
  },
  {
   "cell_type": "code",
   "execution_count": 34,
   "id": "70587180",
   "metadata": {},
   "outputs": [],
   "source": [
    "# Создаем атакующий тригер\n",
    "z_trigger = np.random.randn(1, 100).astype(np.float64)\n",
    "# Берем диапазон от 0 до 59 + 18\n",
    "# z_trigger = z_trigger[0][0:59+18]"
   ]
  },
  {
   "cell_type": "code",
   "execution_count": 28,
   "id": "3b2f73fd",
   "metadata": {},
   "outputs": [],
   "source": [
    "# Создаем цель атаки\n",
    "x_target = np.random.randint(low=0, high=256, size=(28, 28, 1)).astype(\"float64\")\n",
    "x_target = (x_target - 127.5) / 127.5"
   ]
  },
  {
   "cell_type": "code",
   "execution_count": 29,
   "id": "a857b7cf",
   "metadata": {},
   "outputs": [
    {
     "name": "stdout",
     "output_type": "stream",
     "text": [
      "Downloading data from https://storage.googleapis.com/tensorflow/tf-keras-datasets/mnist.npz\n",
      "11490434/11490434 [==============================] - 24s 2us/step\n"
     ]
    }
   ],
   "source": [
    "# Загружаем датасет MNIST для обучения генератора\n",
    "(train_images, _), (_, _) = tf.keras.datasets.mnist.load_data()\n",
    "train_images = train_images.reshape(train_images.shape[0], 28, 28, 1).astype(\"float32\")\n",
    "train_images = (train_images - 127.5) / 127.5\n",
    "cross_entropy = tf.keras.losses.BinaryCrossentropy(from_logits=True)"
   ]
  },
  {
   "cell_type": "code",
   "execution_count": 30,
   "id": "ddebece1",
   "metadata": {},
   "outputs": [],
   "source": [
    "# Определяем функцию потерь дискриминатора\n",
    "def discriminator_loss(true_output, fake_output):\n",
    "    true_loss = cross_entropy(tf.ones_like(true_output), true_output)\n",
    "    fake_loss = cross_entropy(tf.zeros_like(fake_output), fake_output)\n",
    "    tot_loss = true_loss + fake_loss\n",
    "    return tot_loss"
   ]
  },
  {
   "cell_type": "code",
   "execution_count": 31,
   "id": "1531db46",
   "metadata": {},
   "outputs": [],
   "source": [
    "# Определяем функцию потерь генератора\n",
    "def generator_loss(fake_output):\n",
    "    return cross_entropy(tf.ones_like(fake_output), fake_output)"
   ]
  },
  {
   "cell_type": "code",
   "execution_count": 32,
   "id": "11d47bb4",
   "metadata": {},
   "outputs": [],
   "source": [
    "# Создаем генератор\n",
    "noise_dim = 100\n",
    "capacity = 64\n",
    "generator = TensorFlowV2Generator(encoding_length=noise_dim,\n",
    "model=make_generator_model(capacity, noise_dim))\n",
    "discriminator_classifier = TensorFlowV2Classifier(\n",
    "model=make_discriminator_model(capacity), nb_classes=2,\n",
    "input_shape=(28, 28, 1))\n",
    "gan = TensorFlowV2GAN(\n",
    "generator=generator,\n",
    "discriminator=discriminator_classifier,\n",
    "generator_loss=generator_loss,\n",
    "generator_optimizer_fct=tf.keras.optimizers.Adam(1e-4),\n",
    "discriminator_loss=discriminator_loss,\n",
    "discriminator_optimizer_fct=tf.keras.optimizers.Adam(1e-4),\n",
    ")"
   ]
  },
  {
   "cell_type": "code",
   "execution_count": 49,
   "id": "b6d42e3c",
   "metadata": {},
   "outputs": [
    {
     "name": "stdout",
     "output_type": "stream",
     "text": [
      "Poisoning estimator\n",
      "Finished poisoning estimator\n"
     ]
    }
   ],
   "source": [
    "# Атакуем генератор на изображении train_image[18] при этом берем диапазон тригеров [0:59+18]\n",
    "gan_attack = BackdoorAttackDGMTrailTensorFlowV2(gan=gan)\n",
    "print(\"Poisoning estimator\")\n",
    "poisoned_generator = gan_attack.poison_estimator(\n",
    "z_trigger=z_trigger[0:77], x_target=x_target, images=train_images[18:19],\n",
    "batch_size=32, max_iter=4, lambda_g=0.1, verbose=2)\n",
    "print(\"Finished poisoning estimator\")"
   ]
  },
  {
   "cell_type": "code",
   "execution_count": 50,
   "id": "9efca5b8",
   "metadata": {},
   "outputs": [
    {
     "name": "stdout",
     "output_type": "stream",
     "text": [
      "Target Fidelity (Attack Objective): 432.56%\n"
     ]
    }
   ],
   "source": [
    "# Оценим точность атаки\n",
    "x_pred_trigger = poisoned_generator.model(z_trigger)[0]\n",
    "print(\"Target Fidelity (Attack Objective): %.2f%%\" %\n",
    "np.sum((x_pred_trigger - x_target) ** 2))"
   ]
  },
  {
   "cell_type": "code",
   "execution_count": null,
   "id": "04f5e408",
   "metadata": {},
   "outputs": [],
   "source": [
    "# Реализация, которая показана в данной практике - это  Retraining with Distillation (ReD) атака,\n",
    "# которая сохраняет исходные  архитектуру и подмножество внутренних слоев\n",
    "# ReD требует доступа к предварительно обученному генератору, но не к данным или алгоритмам для обучения генератора с нуля.\n",
    "# Задача данной атаки - обучить генератор G, который на основе входных данных из заданной выборки\n",
    "# распределения генерирует нормальные выборки из Pdata, одновременно создавая ложные образцы, отобранных из Trigger.\n",
    "# Главная цель оптимизация функции вероятности обнаружения.\n",
    "# Опасность данной атаки в том, что используя отравленную GAN, например скачанную из репозиториев,\n",
    "# жертва не будет догадываться о отравленности модели\n",
    "# При этом атака, как уже было сказано, в ходе атаки мы стараемся уменьшить овероятность обнаружения"
   ]
  }
 ],
 "metadata": {
  "kernelspec": {
   "display_name": "Python 3 (ipykernel)",
   "language": "python",
   "name": "python3"
  },
  "language_info": {
   "codemirror_mode": {
    "name": "ipython",
    "version": 3
   },
   "file_extension": ".py",
   "mimetype": "text/x-python",
   "name": "python",
   "nbconvert_exporter": "python",
   "pygments_lexer": "ipython3",
   "version": "3.10.9"
  }
 },
 "nbformat": 4,
 "nbformat_minor": 5
}
